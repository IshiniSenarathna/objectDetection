{
 "cells": [
  {
   "cell_type": "code",
   "execution_count": 11,
   "id": "d17c255e-3665-4da1-a7e7-e6606657a5d7",
   "metadata": {},
   "outputs": [
    {
     "name": "stdout",
     "output_type": "stream",
     "text": [
      "Training complete! Model saved at: C:\\Users\\HP\\objectDetection\\objectDetection\\classifier.yml\n"
     ]
    }
   ],
   "source": [
    "\n",
    "import cv2\n",
    "import os\n",
    "import numpy as np\n",
    "\n",
    "# Ensure contrib is available\n",
    "assert hasattr(cv2, 'face'), \"Please install opencv-contrib-python before running this.\"\n",
    "\n",
    "dataset_path = \"objectDetection/dataset\"\n",
    "faces = []\n",
    "ids = []\n",
    "user_id = 1  \n",
    "\n",
    "for img_name in os.listdir(dataset_path):\n",
    "    img_path = os.path.join(dataset_path, img_name)\n",
    "    img = cv2.imread(img_path, cv2.IMREAD_GRAYSCALE)\n",
    "    if img is None:\n",
    "        continue  # skip unreadable files\n",
    "    faces.append(img)\n",
    "    ids.append(user_id)\n",
    "\n",
    "ids = np.array(ids)\n",
    "\n",
    "clf = cv2.face.LBPHFaceRecognizer_create()\n",
    "clf.train(faces, ids)\n",
    "\n",
    "save_path = \"objectDetection/classifier.yml\"\n",
    "clf.write(save_path)\n",
    "\n",
    "print(f\"Training complete! Model saved at: {os.path.abspath(save_path)}\")\n",
    "\n",
    " "
   ]
  },
  {
   "cell_type": "code",
   "execution_count": 18,
   "id": "6db703ca-d195-4e77-9b83-0bda058be535",
   "metadata": {},
   "outputs": [
    {
     "name": "stdin",
     "output_type": "stream",
     "text": [
      "Enter person name:  mathee\n"
     ]
    },
    {
     "name": "stdout",
     "output_type": "stream",
     "text": [
      "Starting to capture 50 face samples for mathee...\n",
      "Captured 50 face images for mathee in folder 'objectDetection/dataset\\mathee'\n",
      "Training complete! Model saved at: objectDetection/classifier.yml\n",
      "Label IDs and corresponding persons:\n",
      "0 : Ishini\n",
      "1 : ivar\n",
      "2 : mathee\n"
     ]
    }
   ],
   "source": [
    "import cv2\n",
    "import os\n",
    "import numpy as np\n",
    "\n",
    "# Constants\n",
    "dataset_path = \"objectDetection/dataset\"\n",
    "model_save_path = \"objectDetection/classifier.yml\"\n",
    "face_cascade = cv2.CascadeClassifier(\"haarcascade_frontalface_default.xml\")\n",
    "num_samples = 50\n",
    "\n",
    "# Step 1: Capture faces for a new person\n",
    "person_name = input(\"Enter person name: \").strip()\n",
    "person_folder = os.path.join(dataset_path, person_name)\n",
    "os.makedirs(person_folder, exist_ok=True)\n",
    "\n",
    "cap = cv2.VideoCapture(0)\n",
    "count = 0\n",
    "\n",
    "print(f\"Starting to capture {num_samples} face samples for {person_name}...\")\n",
    "\n",
    "while True:\n",
    "    ret, frame = cap.read()\n",
    "    if not ret:\n",
    "        continue\n",
    "    gray = cv2.cvtColor(frame, cv2.COLOR_BGR2GRAY)\n",
    "    faces = face_cascade.detectMultiScale(gray, 1.1, 5)\n",
    "\n",
    "    for (x, y, w, h) in faces:\n",
    "        count += 1\n",
    "        face_img = gray[y:y+h, x:x+w]\n",
    "        img_path = os.path.join(person_folder, f\"{person_name}_{count}.jpg\")\n",
    "        cv2.imwrite(img_path, face_img)\n",
    "        cv2.rectangle(frame, (x, y), (x+w, y+h), (255, 255, 255), 2)\n",
    "        cv2.putText(frame, f\"Sample {count}/{num_samples}\", (10, 30), \n",
    "                    cv2.FONT_HERSHEY_SIMPLEX, 1, (0, 255, 0), 2)\n",
    "        if count >= num_samples:\n",
    "            break\n",
    "            \n",
    "    cv2.imshow(\"Capture Faces\", frame)\n",
    "    if cv2.waitKey(1) & 0xFF == ord('q') or count >= num_samples:\n",
    "        break\n",
    "\n",
    "cap.release()\n",
    "cv2.destroyAllWindows()\n",
    "\n",
    "print(f\"Captured {count} face images for {person_name} in folder '{person_folder}'\")\n",
    "\n",
    "# Step 2: Prepare dataset and train face recognizer on all data\n",
    "faces = []\n",
    "labels = []\n",
    "label_dict = {}\n",
    "label_id = 0\n",
    "\n",
    "for person in os.listdir(dataset_path):\n",
    "    person_dir = os.path.join(dataset_path, person)\n",
    "    if not os.path.isdir(person_dir):\n",
    "        continue\n",
    "    label_dict[label_id] = person\n",
    "    for img_name in os.listdir(person_dir):\n",
    "        img_path = os.path.join(person_dir, img_name)\n",
    "        img = cv2.imread(img_path)\n",
    "        if img is None:\n",
    "            continue\n",
    "        gray = cv2.cvtColor(img, cv2.COLOR_BGR2GRAY)\n",
    "        faces_rects = face_cascade.detectMultiScale(gray, 1.2, 5)\n",
    "        for (x, y, w, h) in faces_rects:\n",
    "            faces.append(gray[y:y+h, x:x+w])\n",
    "            labels.append(label_id)\n",
    "    label_id += 1\n",
    "\n",
    "labels = np.array(labels)\n",
    "clf = cv2.face.LBPHFaceRecognizer_create()\n",
    "clf.train(faces, labels)\n",
    "clf.write(model_save_path)\n",
    "\n",
    "print(f\"Training complete! Model saved at: {model_save_path}\")\n",
    "print(\"Label IDs and corresponding persons:\")\n",
    "for key, val in label_dict.items():\n",
    "    print(f\"{key} : {val}\")\n"
   ]
  },
  {
   "cell_type": "code",
   "execution_count": null,
   "id": "513998d5-db5c-4602-b211-79435ced1c7e",
   "metadata": {},
   "outputs": [],
   "source": []
  }
 ],
 "metadata": {
  "kernelspec": {
   "display_name": "Python [conda env:base] *",
   "language": "python",
   "name": "conda-base-py"
  },
  "language_info": {
   "codemirror_mode": {
    "name": "ipython",
    "version": 3
   },
   "file_extension": ".py",
   "mimetype": "text/x-python",
   "name": "python",
   "nbconvert_exporter": "python",
   "pygments_lexer": "ipython3",
   "version": "3.13.5"
  }
 },
 "nbformat": 4,
 "nbformat_minor": 5
}
