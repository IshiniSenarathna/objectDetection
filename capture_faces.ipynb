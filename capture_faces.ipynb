{
 "cells": [
  {
   "cell_type": "code",
   "execution_count": 5,
   "id": "d17c255e-3665-4da1-a7e7-e6606657a5d7",
   "metadata": {},
   "outputs": [
    {
     "name": "stdout",
     "output_type": "stream",
     "text": [
      "Training complete! Model saved at: C:\\Users\\HP\\objectDetection\\objectDetection\\classifier.yml\n"
     ]
    }
   ],
   "source": [
    "import cv2\n",
    "import os\n",
    "import numpy as np\n",
    "\n",
    "# Ensure contrib is available\n",
    "assert hasattr(cv2, 'face'), \"Please install opencv-contrib-python before running this.\"\n",
    "\n",
    "dataset_path = \"objectDetection/dataset\"\n",
    "faces = []\n",
    "ids = []\n",
    "user_id = 1  \n",
    "\n",
    "for img_name in os.listdir(dataset_path):\n",
    "    img_path = os.path.join(dataset_path, img_name)\n",
    "    img = cv2.imread(img_path, cv2.IMREAD_GRAYSCALE)\n",
    "    if img is None:\n",
    "        continue  # skip unreadable files\n",
    "    faces.append(img)\n",
    "    ids.append(user_id)\n",
    "\n",
    "ids = np.array(ids)\n",
    "\n",
    "clf = cv2.face.LBPHFaceRecognizer_create()\n",
    "clf.train(faces, ids)\n",
    "\n",
    "save_path = \"objectDetection/classifier.yml\"\n",
    "clf.write(save_path)\n",
    "\n",
    "print(f\"Training complete! Model saved at: {os.path.abspath(save_path)}\")\n"
   ]
  },
  {
   "cell_type": "code",
   "execution_count": null,
   "id": "6db703ca-d195-4e77-9b83-0bda058be535",
   "metadata": {},
   "outputs": [],
   "source": []
  }
 ],
 "metadata": {
  "kernelspec": {
   "display_name": "Python [conda env:base] *",
   "language": "python",
   "name": "conda-base-py"
  },
  "language_info": {
   "codemirror_mode": {
    "name": "ipython",
    "version": 3
   },
   "file_extension": ".py",
   "mimetype": "text/x-python",
   "name": "python",
   "nbconvert_exporter": "python",
   "pygments_lexer": "ipython3",
   "version": "3.13.5"
  }
 },
 "nbformat": 4,
 "nbformat_minor": 5
}
