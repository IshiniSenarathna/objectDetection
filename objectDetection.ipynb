{
 "cells": [
  {
   "cell_type": "code",
   "execution_count": 36,
   "id": "771e458f-30ff-4220-9336-db3cb5989b93",
   "metadata": {},
   "outputs": [],
   "source": [
    "# face detection "
   ]
  },
  {
   "cell_type": "code",
   "execution_count": 46,
   "id": "827f870e-adba-451e-a1fb-09fa75c7e5af",
   "metadata": {},
   "outputs": [],
   "source": [
    "import cv2\n",
    "\n",
    "def draw_boundary(img, classifier, scaleFactor, minNeighbors, color, text):\n",
    "    gray_img = cv2.cvtColor(img, cv2.COLOR_BGR2GRAY) # convert face colour to gray\n",
    "    features = classifier.detectMultiScale(gray_img, scaleFactor, minNeighbors)\n",
    "    coords = []\n",
    "    for(x, y, w, h) in features:\n",
    "        cv2.rectangle(img, (x,y), (x+w, y+h), color, 2)\n",
    "        cv2.putText(img, text, (x, y-4), cv2.FONT_HERSHEY_SIMPLEX, 0.8, color, 1, cv2.LINE_AA)\n",
    "        coords=[x, y, w, h]\n",
    "    return coords,img\n",
    "\n",
    "def detect(img, faceCascade):\n",
    "    color = {\"blue\":(255,0,0), \"red\":(0,0,255), \"green\":(0,255,0)}\n",
    "    coords, img = draw_boundary(img, faceCascade, 1.1, 10, color['red'], \"face\")\n",
    "    return img\n",
    "\n",
    "faceCascade = cv2.CascadeClassifier(\"haarcascade_frontalface_default.xml\")\n",
    "\n",
    "\n",
    "video_capture = cv2.VideoCapture(0)\n",
    "while True:\n",
    "    _, img =video_capture.read()\n",
    "    img = detect(img, faceCascade)\n",
    "    cv2.imshow(\"face detection\", img)\n",
    "    if cv2.waitKey(1)& 0xFF == ord('q'):\n",
    "        break\n",
    "video_capture.release()\n",
    "cv2.destroyAllWindows()"
   ]
  },
  {
   "cell_type": "code",
   "execution_count": 29,
   "id": "6156856a-11b2-4caa-b1ed-c7cf6e13ac94",
   "metadata": {},
   "outputs": [
    {
     "data": {
      "text/plain": [
       "CompletedProcess(args=['git', 'push', '-u', 'origin', 'master'], returncode=0)"
      ]
     },
     "execution_count": 29,
     "metadata": {},
     "output_type": "execute_result"
    }
   ],
   "source": [
    "# This code assumes you have Git installed and configured\n",
    "# If not, install Git first and configure your username and email\n",
    "\n",
    "import os\n",
    "import subprocess\n",
    "\n",
    "# Initialize a Git repository in your current directory\n",
    "subprocess.run([\"git\", \"init\"])\n",
    "\n",
    "# Add your file to the staging area (replace \"your_file.ipynb\" with your actual filename)\n",
    "subprocess.run([\"git\", \"add\", \"objectDetection.ipynb\"])\n",
    "\n",
    "# Commit the changes\n",
    "subprocess.run([\"git\", \"commit\", \"-m\", \"Initial commit: Add Jupyter notebook\"])\n",
    "\n",
    "# Add the remote repository (replace with your actual GitHub repository URL)\n",
    "# Format: https://github.com/username/repository.git\n",
    "subprocess.run([\"git\", \"remote\", \"add\", \"origin\", \"https://github.com/IshiniSenarathna/first_objectDetection.git\"])\n",
    "\n",
    "# Push to GitHub\n",
    "subprocess.run([\"git\", \"push\", \"-u\", \"origin\", \"master\"])  # Use \"main\" instead of \"master\" for newer repositories"
   ]
  },
  {
   "cell_type": "code",
   "execution_count": 30,
   "id": "11277d2d-0ce1-4a85-90c6-ea81c7c9ff30",
   "metadata": {},
   "outputs": [
    {
     "name": "stdout",
     "output_type": "stream",
     "text": [
      "Downloading haarcascade_frontalface_default.xml...\n",
      "Successfully downloaded haarcascade_frontalface_default.xml and pushed to GitHub repository!\n"
     ]
    }
   ],
   "source": [
    "import os\n",
    "import subprocess\n",
    "import urllib.request\n",
    "import shutil\n",
    "\n",
    "# Create a directory for your project if it doesn't exist\n",
    "if not os.path.exists(\"face_detection_project\"):\n",
    "    os.makedirs(\"face_detection_project\")\n",
    "os.chdir(\"face_detection_project\")\n",
    "\n",
    "# Option 1: Download haarcascade_frontalface_default.xml directly from OpenCV's GitHub\n",
    "print(\"Downloading haarcascade_frontalface_default.xml...\")\n",
    "url = \"https://raw.githubusercontent.com/opencv/opencv/master/data/haarcascades/haarcascade_frontalface_default.xml\"\n",
    "urllib.request.urlretrieve(url, \"haarcascade_frontalface_default.xml\")\n",
    "\n",
    "# Option 2 (Alternative): Clone the entire OpenCV repository (commented out as it's large)\n",
    "# subprocess.run([\"git\", \"clone\", \"https://github.com/opencv/opencv.git\"])\n",
    "# shutil.copy(\"opencv/data/haarcascades/haarcascade_frontalface_default.xml\", \".\")\n",
    "\n",
    "# Copy your Jupyter notebook file to this directory (replace with your actual file)\n",
    "# shutil.copy(\"../your_file.ipynb\", \".\")\n",
    "\n",
    "# Initialize a Git repository\n",
    "subprocess.run([\"git\", \"init\"])\n",
    "\n",
    "# Add all files to the staging area\n",
    "subprocess.run([\"git\", \"add\", \".\"])\n",
    "\n",
    "# Commit the changes\n",
    "subprocess.run([\"git\", \"commit\", \"-m\", \"Initial commit: Add face detection files\"])\n",
    "\n",
    "# Add the remote repository (replace with your actual GitHub repository URL)\n",
    "subprocess.run([\"git\", \"remote\", \"add\", \"origin\", \"https://github.com/yourusername/yourrepository.git\"])\n",
    "\n",
    "# Push to GitHub\n",
    "subprocess.run([\"git\", \"push\", \"-u\", \"origin\", \"master\"])  # Use \"main\" instead of \"master\" for newer repositories\n",
    "\n",
    "print(\"Successfully downloaded haarcascade_frontalface_default.xml and pushed to GitHub repository!\")"
   ]
  },
  {
   "cell_type": "code",
   "execution_count": 31,
   "id": "0bbe8ae6-0fe5-4ce6-8d0e-22894b9ab6ad",
   "metadata": {},
   "outputs": [
    {
     "name": "stdout",
     "output_type": "stream",
     "text": [
      "Downloading haarcascade_frontalface_default.xml...\n",
      "Download complete!\n",
      "Successfully pushed files to your GitHub repository!\n",
      "Repository URL: https://github.com/IshiniSenarathna/first_objectDetection\n"
     ]
    }
   ],
   "source": [
    "import os\n",
    "import subprocess\n",
    "import urllib.request\n",
    "import shutil\n",
    "\n",
    "# Create a directory for your project if it doesn't exist\n",
    "project_dir = \"first_objectDetection\"\n",
    "if not os.path.exists(project_dir):\n",
    "    os.makedirs(project_dir)\n",
    "os.chdir(project_dir)\n",
    "\n",
    "# Download haarcascade_frontalface_default.xml from OpenCV's GitHub\n",
    "print(\"Downloading haarcascade_frontalface_default.xml...\")\n",
    "url = \"https://raw.githubusercontent.com/opencv/opencv/master/data/haarcascades/haarcascade_frontalface_default.xml\"\n",
    "urllib.request.urlretrieve(url, \"haarcascade_frontalface_default.xml\")\n",
    "print(\"Download complete!\")\n",
    "\n",
    "# Create a README.md file with basic information\n",
    "with open(\"README.md\", \"w\") as readme_file:\n",
    "    readme_file.write(\"# Object Detection Project\\n\\n\")\n",
    "    readme_file.write(\"This repository contains files for face detection using Haar cascades.\\n\")\n",
    "    readme_file.write(\"- haarcascade_frontalface_default.xml: OpenCV's pre-trained face detection model\\n\")\n",
    "\n",
    "# Copy your Jupyter notebook file to this directory (if it exists)\n",
    "# If your notebook is in the parent directory, uncomment and modify this line:\n",
    "# shutil.copy(\"../your_notebook_file.ipynb\", \".\")\n",
    "\n",
    "# Initialize a Git repository\n",
    "subprocess.run([\"git\", \"init\"])\n",
    "\n",
    "# Add all files to the staging area\n",
    "subprocess.run([\"git\", \"add\", \".\"])\n",
    "\n",
    "# Commit the changes\n",
    "subprocess.run([\"git\", \"commit\", \"-m\", \"Initial commit: Add face detection files\"])\n",
    "\n",
    "# Add the remote repository using your specific URL\n",
    "subprocess.run([\"git\", \"remote\", \"add\", \"origin\", \"https://github.com/IshiniSenarathna/first_objectDetection.git\"])\n",
    "\n",
    "# Push to GitHub\n",
    "subprocess.run([\"git\", \"push\", \"-u\", \"origin\", \"master\"])  # Try \"main\" if \"master\" doesn't work\n",
    "\n",
    "print(\"Successfully pushed files to your GitHub repository!\")\n",
    "print(\"Repository URL: https://github.com/IshiniSenarathna/first_objectDetection\")"
   ]
  },
  {
   "cell_type": "code",
   "execution_count": 32,
   "id": "fa9167e9-86d3-4a33-846b-55fb9e4cdd46",
   "metadata": {},
   "outputs": [],
   "source": [
    "# new\n"
   ]
  },
  {
   "cell_type": "code",
   "execution_count": 53,
   "id": "9beb2d8f-5e30-4c1a-99af-1a8631d38dda",
   "metadata": {},
   "outputs": [],
   "source": [
    "import cv2\n",
    "\n",
    "def draw_boundary(img, classifier, scaleFactor, minNeighbors, color, text):\n",
    "    gray_img = cv2.cvtColor(img, cv2.COLOR_BGR2GRAY) # convert face colour to gray\n",
    "    features = classifier.detectMultiScale(gray_img, scaleFactor, minNeighbors)\n",
    "    coords = []\n",
    "    for(x, y, w, h) in features:\n",
    "        cv2.rectangle(img, (x,y), (x+w, y+h), color, 2)\n",
    "        cv2.putText(img, text, (x, y-4), cv2.FONT_HERSHEY_SIMPLEX, 0.8, color, 1, cv2.LINE_AA)\n",
    "        coords=[x, y, w, h]\n",
    "    return coords\n",
    "\n",
    "def detect(img, faceCascade, eyeCascade):\n",
    "    color = {\"blue\":(255,0,0), \"red\":(0,0,255), \"green\":(0,255,0)}\n",
    "    coords = draw_boundary(img, faceCascade, 1.1, 10, color['blue'], \"face\")\n",
    "    if len(coords)==4:\n",
    "        roi_img = img[coords[1]:coords[1]+coords[3], coords[0]:coords[0]+coords[2]] #img[ y:y+height, x:x+width ]\n",
    "        coords = draw_boundary(roi_img, eyeCascade, 1.1, 14, color['red'], \"eyes\")\n",
    "     \n",
    "    return img\n",
    "\n",
    "faceCascade = cv2.CascadeClassifier(\"haarcascade_frontalface_default.xml\")\n",
    "eyeCascade = cv2.CascadeClassifier(\"haarcascade_eye.xml\")\n",
    "\n",
    "\n",
    "\n",
    "video_capture = cv2.VideoCapture(0)\n",
    "while True:\n",
    "    _, img =video_capture.read()\n",
    "    img = detect(img, faceCascade, eyeCascade)\n",
    "    cv2.imshow(\"face detection\", img)\n",
    "    if cv2.waitKey(1)& 0xFF == ord('q'):\n",
    "        break\n",
    "video_capture.release()\n",
    "cv2.destroyAllWindows()"
   ]
  },
  {
   "cell_type": "code",
   "execution_count": 54,
   "id": "6378073c-e41a-43eb-8f4e-944df91d2ac4",
   "metadata": {},
   "outputs": [
    {
     "data": {
      "text/plain": [
       "CompletedProcess(args=['git', 'push', '-u', 'origin', 'master'], returncode=1)"
      ]
     },
     "execution_count": 54,
     "metadata": {},
     "output_type": "execute_result"
    }
   ],
   "source": [
    "# This is a script you can run in your terminal or command prompt\n",
    "# You can also run these commands directly in your terminal without Python\n",
    "\n",
    "import os\n",
    "import subprocess\n",
    "\n",
    "# Change to your project directory if needed\n",
    "# os.chdir('/path/to/your/project')\n",
    "\n",
    "# Initialize Git repository (if not already initialized)\n",
    "subprocess.run(['git', 'init'])\n",
    "\n",
    "# Add all files to Git\n",
    "subprocess.run(['git', 'add', '.'])\n",
    "\n",
    "# Commit the changes\n",
    "subprocess.run(['git', 'commit', '-m', 'Initial commit'])\n",
    "\n",
    "# Add your GitHub repository URL\n",
    "# Replace the URL with your actual GitHub repository URL\n",
    "subprocess.run(['git', 'remote', 'add', 'origin', 'https://github.com/yourusername/your-repo-name.git'])\n",
    "\n",
    "# Push to GitHub\n",
    "subprocess.run(['git', 'push', '-u', 'origin', 'master'])  # Use 'main' instead of 'master' if that's your default branch"
   ]
  },
  {
   "cell_type": "code",
   "execution_count": null,
   "id": "cdbeaf38-1dea-4cc5-b516-ec707e2b39e8",
   "metadata": {},
   "outputs": [],
   "source": []
  }
 ],
 "metadata": {
  "kernelspec": {
   "display_name": "Python [conda env:base] *",
   "language": "python",
   "name": "conda-base-py"
  },
  "language_info": {
   "codemirror_mode": {
    "name": "ipython",
    "version": 3
   },
   "file_extension": ".py",
   "mimetype": "text/x-python",
   "name": "python",
   "nbconvert_exporter": "python",
   "pygments_lexer": "ipython3",
   "version": "3.13.5"
  }
 },
 "nbformat": 4,
 "nbformat_minor": 5
}
